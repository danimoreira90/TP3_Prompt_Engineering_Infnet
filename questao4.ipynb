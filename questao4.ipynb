{
 "cells": [
  {
   "cell_type": "code",
   "execution_count": 4,
   "metadata": {},
   "outputs": [
    {
     "name": "stderr",
     "output_type": "stream",
     "text": [
      "c:\\Users\\Dani\\AppData\\Local\\Programs\\Python\\Python311\\Lib\\site-packages\\tqdm\\auto.py:21: TqdmWarning: IProgress not found. Please update jupyter and ipywidgets. See https://ipywidgets.readthedocs.io/en/stable/user_install.html\n",
      "  from .autonotebook import tqdm as notebook_tqdm\n"
     ]
    }
   ],
   "source": [
    "import requests\n",
    "from bs4 import BeautifulSoup\n",
    "import json\n",
    "import os\n",
    "import google.generativeai as genai\n",
    "from google.generativeai.types import HarmCategory, HarmBlockThreshold"
   ]
  },
  {
   "cell_type": "code",
   "execution_count": 11,
   "metadata": {},
   "outputs": [
    {
     "name": "stdout",
     "output_type": "stream",
     "text": [
      "[\"'Pai, pai', gritou menina de 12 anos ao ser baleada enquanto brincava na praça\", 'RJ tem 21 crianças baleadas em 2024; menina que brincava na praça será enterrada neste sábado', 'Rio tem chance de recorde de calor e 14 praias próprias para banho neste sábado', 'VÍDEOS: RJ2 de sexta-feira, 6 de dezembro de 2024', 'Defensoria Pública do RJ pede indenização e descontos nas contas de consumidores prejudicados pela falta de água', 'Caso Marielle: MP recorre e pede aumento da pena de Lessa e Élcio', 'VÍDEOS: RJ1 de sexta-feira, 6 de dezembro de 2024', 'Homem suspeito de matar policial em Belford Roxo é preso pela Delegacia de Homicídios da Baixada']\n"
     ]
    }
   ],
   "source": [
    "def extrair_manchetes(url):\n",
    "    response = requests.get(url)\n",
    "    soup = BeautifulSoup(response.text, 'html.parser')\n",
    "    manchetes = [titulo.text.strip() for titulo in soup.find_all('a', class_='feed-post-link')]\n",
    "    return manchetes\n",
    "\n",
    "url = 'https://g1.globo.com/rj/rio-de-janeiro/'\n",
    "manchetes = extrair_manchetes(url)\n",
    "print(manchetes)"
   ]
  },
  {
   "cell_type": "code",
   "execution_count": 12,
   "metadata": {},
   "outputs": [],
   "source": [
    "genai.configure(api_key=os.environ[\"GEMINI_KEY\"])\n",
    "safety_settings = {\n",
    "    HarmCategory.HARM_CATEGORY_HATE_SPEECH: HarmBlockThreshold.BLOCK_NONE,\n",
    "    HarmCategory.HARM_CATEGORY_HARASSMENT: HarmBlockThreshold.BLOCK_NONE,\n",
    "    HarmCategory.HARM_CATEGORY_SEXUALLY_EXPLICIT: HarmBlockThreshold.BLOCK_NONE,\n",
    "    HarmCategory.HARM_CATEGORY_DANGEROUS_CONTENT: HarmBlockThreshold.BLOCK_NONE,\n",
    "}"
   ]
  },
  {
   "cell_type": "code",
   "execution_count": 13,
   "metadata": {},
   "outputs": [],
   "source": [
    "model = genai.GenerativeModel(\"gemini-1.5-flash\")"
   ]
  },
  {
   "cell_type": "code",
   "execution_count": 38,
   "metadata": {},
   "outputs": [],
   "source": [
    "persona = 'analista de notícias'\n",
    "metaprompt = f\"\"\"\n",
    "Imagine que você é um {persona}, especializado em avaliar conteúdos de notícias. Categorize cada título baseado em emoções como positivas, neutras e negativas.\n",
    "Aqui estão exemplos de conteúdos os quais estão devidamente classificados relacionados à cada emoção. Classifique as emoções em APENAS Positiva, neutra e negativa.\n",
    "Estruture sua resposta de maneira que sua resposta seja uma string contínua onde cada linha é formatada como \"Sentimento: Manchete\". Seguem exemplos:\n",
    "- Positiva: \"Time de futebol local vence campeonato trazendo alegria à população\"\n",
    "- Neutra: \"Prefeitura organiza reunião para discussão de novas políticas\"\n",
    "- Negativa: \"Fábrica vai à falência, levando à perda de empregos na comunidade\"\n",
    "\n",
    "Classifique a seguir os títulos:\n",
    "\"\"\""
   ]
  },
  {
   "cell_type": "code",
   "execution_count": 44,
   "metadata": {},
   "outputs": [
    {
     "name": "stdout",
     "output_type": "stream",
     "text": [
      "Negativa:'Pai, pai', gritou menina de 12 anos ao ser baleada enquanto brincava na praça\n",
      "Negativa:RJ tem 21 crianças baleadas em 2024; menina que brincava na praça será enterrada neste sábado\n",
      "Neutra:Rio tem chance de recorde de calor e 14 praias próprias para banho neste sábado\n",
      "Neutra:VÍDEOS: RJ2 de sexta-feira, 6 de dezembro de 2024\n",
      "Positiva:Defensoria Pública do RJ pede indenização e descontos nas contas de consumidores prejudicados pela falta de água\n",
      "Positiva:Caso Marielle: MP recorre e pede aumento da pena de Lessa e Élcio\n",
      "Neutra:VÍDEOS: RJ1 de sexta-feira, 6 de dezembro de 2024\n",
      "Positiva:Homem suspeito de matar policial em Belford Roxo é preso pela Delegacia de Homicídios da Baixada\n",
      "\n"
     ]
    }
   ],
   "source": [
    "final_prompt = metaprompt + \"\\n\".join(manchetes)\n",
    "\n",
    "generation_config = {\n",
    "    'temperature': 0.6,\n",
    "    'top_p': 0.8,\n",
    "    'top_k': 20,\n",
    "    'max_output_tokens': 1000\n",
    "}\n",
    "\n",
    "response = model.generate_content(\n",
    "    final_prompt,\n",
    "    generation_config=generation_config,\n",
    "    safety_settings=safety_settings\n",
    ")\n",
    "\n",
    "print(response.text)"
   ]
  },
  {
   "cell_type": "code",
   "execution_count": 47,
   "metadata": {},
   "outputs": [],
   "source": [
    "model_response = (response.text)"
   ]
  },
  {
   "cell_type": "code",
   "execution_count": 48,
   "metadata": {},
   "outputs": [],
   "source": [
    "sentiment_counts = {\"Positive\": 0, \"Neutral\": 0, \"Negative\": 0}\n",
    "lines = model_response.strip().split(\"\\n\")\n",
    "classified_headlines = []"
   ]
  },
  {
   "cell_type": "code",
   "execution_count": 49,
   "metadata": {},
   "outputs": [],
   "source": [
    "lines = model_response.strip().split(\"\\n\")\n",
    "classified_headlines = []\n",
    "\n",
    "for line in lines:\n",
    "    # Encontrar o primeiro dois pontos e dividir a string nesse ponto\n",
    "    index = line.find(':')\n",
    "    if index != -1:\n",
    "        sentiment = line[:index].strip()\n",
    "        headline = line[index+1:].strip()  # +1 para remover o ':' da manchete\n",
    "        classified_headlines.append({\"headline\": headline, \"sentiment\": sentiment})"
   ]
  },
  {
   "cell_type": "code",
   "execution_count": 50,
   "metadata": {},
   "outputs": [
    {
     "name": "stdout",
     "output_type": "stream",
     "text": [
      "JSON salvo com sucesso: [\n",
      "    {\n",
      "        \"headline\": \"'Pai, pai', gritou menina de 12 anos ao ser baleada enquanto brincava na pra\\u00e7a\",\n",
      "        \"sentiment\": \"Negativa\"\n",
      "    },\n",
      "    {\n",
      "        \"headline\": \"RJ tem 21 crian\\u00e7as baleadas em 2024; menina que brincava na pra\\u00e7a ser\\u00e1 enterrada neste s\\u00e1bado\",\n",
      "        \"sentiment\": \"Negativa\"\n",
      "    },\n",
      "    {\n",
      "        \"headline\": \"Rio tem chance de recorde de calor e 14 praias pr\\u00f3prias para banho neste s\\u00e1bado\",\n",
      "        \"sentiment\": \"Neutra\"\n",
      "    },\n",
      "    {\n",
      "        \"headline\": \"V\\u00cdDEOS: RJ2 de sexta-feira, 6 de dezembro de 2024\",\n",
      "        \"sentiment\": \"Neutra\"\n",
      "    },\n",
      "    {\n",
      "        \"headline\": \"Defensoria P\\u00fablica do RJ pede indeniza\\u00e7\\u00e3o e descontos nas contas de consumidores prejudicados pela falta de \\u00e1gua\",\n",
      "        \"sentiment\": \"Positiva\"\n",
      "    },\n",
      "    {\n",
      "        \"headline\": \"Caso Marielle: MP recorre e pede aumento da pena de Lessa e \\u00c9lcio\",\n",
      "        \"sentiment\": \"Positiva\"\n",
      "    },\n",
      "    {\n",
      "        \"headline\": \"V\\u00cdDEOS: RJ1 de sexta-feira, 6 de dezembro de 2024\",\n",
      "        \"sentiment\": \"Neutra\"\n",
      "    },\n",
      "    {\n",
      "        \"headline\": \"Homem suspeito de matar policial em Belford Roxo \\u00e9 preso pela Delegacia de Homic\\u00eddios da Baixada\",\n",
      "        \"sentiment\": \"Positiva\"\n",
      "    }\n",
      "]\n"
     ]
    }
   ],
   "source": [
    "json_output = json.dumps(classified_headlines, indent=4)\n",
    "\n",
    "with open(\"classified_headlines.json\", \"w\") as json_file:\n",
    "    json_file.write(json_output)\n",
    "\n",
    "print(\"JSON salvo com sucesso:\", json_output)"
   ]
  }
 ],
 "metadata": {
  "kernelspec": {
   "display_name": "Python 3",
   "language": "python",
   "name": "python3"
  },
  "language_info": {
   "codemirror_mode": {
    "name": "ipython",
    "version": 3
   },
   "file_extension": ".py",
   "mimetype": "text/x-python",
   "name": "python",
   "nbconvert_exporter": "python",
   "pygments_lexer": "ipython3",
   "version": "3.11.2"
  }
 },
 "nbformat": 4,
 "nbformat_minor": 2
}
