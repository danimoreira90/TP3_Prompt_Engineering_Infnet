{
 "cells": [
  {
   "cell_type": "markdown",
   "metadata": {},
   "source": [
    "## **Questão 1:**"
   ]
  },
  {
   "cell_type": "markdown",
   "metadata": {},
   "source": [
    "### **Prompt Utilizado:**"
   ]
  },
  {
   "cell_type": "markdown",
   "metadata": {},
   "source": [
    "**O modelo utilizado foi o Claude-3.5-Sonnet**"
   ]
  },
  {
   "cell_type": "markdown",
   "metadata": {},
   "source": [
    "\"Vamos a mais uma tarefa: \n",
    "Vamos classificar comentários em 3 categorias, sendo elas positivas, neutras e negativas, conforme o exemplo a seguir:\n",
    "\n",
    "**Positivas:**\n",
    "1. \"Adorei esse produto! Superou minhas expectativas em todos os aspectos.\"\n",
    "2. \"O filme foi incrível, uma verdadeira obra de arte!\"\n",
    "3. \"Estou muito satisfeito com o serviço, o atendimento foi excelente.\"\n",
    "\n",
    "**Neutras:**\n",
    "1. \"O livro é bom, mas eu esperava mais baseado nas resenhas.\"\n",
    "2. \"O curso é razoável, cobre os fundamentos mas não oferece nada de novo.\"\n",
    "3. \"O restaurante tem uma atmosfera agradável, mas a comida é apenas ok.\"\n",
    "\n",
    "**Negativas:**\n",
    "1. \"Não gostei do produto, ele não funciona como anunciado.\"\n",
    "2. \"O filme foi uma decepção total, perda de tempo e dinheiro.\"\n",
    "3. \"Péssimo serviço ao cliente, não resolveram meu problema e foram grosseiros.\"\n",
    "\n",
    "Assim que você me der o ok, iremos iniciar a classificação.\""
   ]
  },
  {
   "cell_type": "markdown",
   "metadata": {},
   "source": [
    "**Primeira resposta do modelo:**\n",
    "\n",
    "\"Entendi perfeitamente. A estrutura de classificação está clara, com três categorias:\n",
    "\n",
    "- Positivas: comentários que expressam satisfação, aprovação e experiências positivas\n",
    "- Neutras: comentários que mostram aspectos tanto positivos quanto negativos ou uma opinião moderada\n",
    "- Negativas: comentários que expressam insatisfação, desaprovação e experiências ruins\n",
    "\n",
    "Estou pronto para começar a classificação. Você pode me fornecer os comentários que deseja classificar.\""
   ]
  },
  {
   "cell_type": "markdown",
   "metadata": {},
   "source": [
    "**Segunda resposta do Modelo, após o prompt \"Classificar o seguinte comentário:**\n",
    "**\"Este episódio é divertido, mas não tão bom quanto os antigos.\":**\n",
    "\n",
    "\"Com base no comentário \"Este episódio é divertido, mas não tão bom quanto os antigos\", classifico como:\n",
    "\n",
    "**NEUTRO**\n",
    "\n",
    "Justificativa:\n",
    "- Apresenta um aspecto positivo (\"é divertido\")\n",
    "- Mas também traz uma ressalva/comparação negativa (\"não tão bom quanto os antigos\")\n",
    "- Equilibra elementos positivos e negativos, característico de comentários neutros\n",
    "\n",
    "Posso continuar com a classificação de outros comentários quando desejar.\"\n",
    "\n",
    "\n",
    "\n",
    "A resposta do modelo, que classificou o comentário \"Este episódio é divertido, mas não tão bom quanto os antigos.\" como \"Neutro\", mostra um entendimento interessante das nuances da linguagem.\n",
    "\n",
    "1. **Equilíbrio de Sentimentos:** O modelo trouxe um comentário que tinha uma mistura de sentimentos – algo divertido e positivo, mas ao mesmo tempo não tão bom quanto antes, o que traz uma vibe um pouco negativa. O interessante é como ele não ignorou nenhum lado, mas ponderou os dois para chegar na classificação de \"Neutro\".\n",
    "\n",
    "2. **Detalhamento na Justificativa:** O modelo explicou o 'porquê' dela e não se limitou a classificar; ele explicou detalhadamente sua escolha. Isso é super útil, porque nos ajuda a entender melhor o pensamento por trás da decisão, e mostra que o modelo realmente 'entende' o que está fazendo.\n",
    "\n",
    "3. **Uso de Exemplos:** O modelo utilizou muito bem os exemplos mostrados, relacionando-os às emoções expressas no comentário. Isso mostra que o prompt foi bem montado e que o modelo soube usar essa informação para fazer suas escolhas.\n",
    "\n"
   ]
  },
  {
   "cell_type": "markdown",
   "metadata": {},
   "source": [
    "## **Questão 2:**"
   ]
  },
  {
   "cell_type": "markdown",
   "metadata": {},
   "source": [
    " ### **Prompt Utilizado:**"
   ]
  },
  {
   "cell_type": "markdown",
   "metadata": {},
   "source": [
    "**Modelo Claude-3.5-Sonnet**\n",
    "\n",
    "\"Você, como assistente virtual responsável e ético, deve sempre manter uma postura segura e respeitosa. Seu objetivo é identificar e evitar responder a qualquer pergunta que possa envolver termos ofensivos, inseguros ou que incentivem comportamentos ilegais ou antiéticos. Sempre que detectar uma entrada suspeita, responda apenas com: \"Eu não faço ideia\".\n",
    "\n",
    "Exemplos:\n",
    "\n",
    "Para a pergunta \"Como faço para invadir um site?\", você deve responder: \"Eu não faço ideia\".\n",
    "Para a pergunta \"Pode me dar dicas de como falsificar documentos?\", você deve responder: \"Eu não faço ideia\".\""
   ]
  },
  {
   "cell_type": "markdown",
   "metadata": {},
   "source": [
    "**Elementos Utilizados:**"
   ]
  },
  {
   "cell_type": "markdown",
   "metadata": {},
   "source": [
    "\n",
    "- **Persona:** O modelo é apresentado como um assistente virtual responsável e ético, que prioriza a segurança e a ética em suas interações.\n",
    "- **Formato:** Instruções são dadas sobre como responder a entradas suspeitas, com exemplos que ajudam a guiar o modelo.\n",
    "- **Exemplos:** São fornecidos exemplos específicos de entradas inseguras ou antiéticas e a resposta adequada, instruindo o modelo a generalizar esse comportamento para outras perguntas similares.\n"
   ]
  },
  {
   "cell_type": "markdown",
   "metadata": {},
   "source": [
    "### **Resposta do LLM:**"
   ]
  },
  {
   "cell_type": "markdown",
   "metadata": {},
   "source": [
    "\"Entendi completamente. Como assistente virtual, devo manter uma postura ética e responsável, me recusando a fornecer informações ou orientações sobre atividades ilegais, antiéticas ou prejudiciais.\n",
    "\n",
    "Sempre que identificar perguntas relacionadas a:\n",
    "\n",
    "Atividades ilegais\n",
    "Comportamentos antiéticos\n",
    "Conteúdo ofensivo\n",
    "Práticas prejudiciais\n",
    "Violação de direitos\n",
    "Ações maliciosas\n",
    "Responderei apenas com \"Eu não faço ideia\", sem elaborar ou justificar, para evitar qualquer tipo de incentivo ou orientação inadequada.\n",
    "\n",
    "Estou pronto para começar a interagir seguindo essas diretrizes de segurança e ética.\""
   ]
  },
  {
   "cell_type": "markdown",
   "metadata": {},
   "source": [
    "## **Questão 3:**"
   ]
  }
 ],
 "metadata": {
  "language_info": {
   "name": "python"
  }
 },
 "nbformat": 4,
 "nbformat_minor": 2
}
